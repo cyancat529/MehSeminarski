{
 "cells": [
  {
   "cell_type": "markdown",
   "metadata": {},
   "source": [
    "# Kapi kiše\n",
    "\n",
    "Ako posmatramo kretanje kapljica kiše, možemo uočiti da se one u momentu pre nego što dođu u kontakt sa tlom kreću konstantom brzinom. Zašto se to dešava, ako su kapljice tela koja padaju pod silom gravitacije? Zašto se ne kreću ubrzano?\n",
    "\n",
    "\n",
    "Razmotrimo sledeći slučaj - imamo kap kiše u vazduhu, na proizvoljnoj visini od zemlje. Njen početni oblik je sferni, poluprečnika _r_. Na kap naravno deluje gravitaciona sila $F_{g} = F_{D}$, usled koje se kap kreće nadole. Pored gravitacione, na kap takođe deluje sila otpora vazduha $F_{D}$ nasuprod gravitacionoj sili. Ova sila se može posmatrati kao opšta sila otpora pri kretanju tela kroz fluide. Prva stvar koja nam je bitna da razmotrimo je oblik i struktura kapljice. Većina kapi kiše dok padaju zamišlja u obliku 'suze' ili barem generalno sfernog oblika. Međutim, kako je kap sačinjena od tečnosti, njena struktura nije vrlo postojana i oblik joj se lako menja pri delovanju spoljašnjih sila. Iako je početni oblik sferni, u stvarnosti, on zavisi najviše od njene veličine. Ako uzmemo da je početki prečnik kapljice oko 1mm, tokom pada će generalno zadržati sferni oblik. Ako povećavamo njene dimenzije, možemo uočiti da se oblik menja prvo u blago spljoštenu sferu, pa zatim prelazi više u oblik 'kese' (fig. 1). centralni deo kapljice postaje sve tanji i masa se premešta ka spoljnim ivicama. Ovakav oblik se javlja do nekih 5mm, nakon čega se usled veličine kapljice ona razdvaja na više manjih kapljica od <5mm koje mogu da zadrže svoj oblik.   \n",
    "\n",
    "![kapi](./raindrops.png)\n",
    "\n",
    "Intenzitet sile otpora vazduha određuje više faktora, kao što su brzina tela koje se kreće kroz vazduh (fluid), gustina sredine, površina projekcije tela na ravni normalnoj pravcu kretanja, kao i zaseban faktor koji zovemo _koeficijent otpora ($C_{D}$)_. Njegova vrednost se računa preko funkcije od osobina vazduha i tela koje se kreće kroz njega, konktretno zapremina i viskoznost vazduha, kao i brzina i karakteristična dužina tela (u slučaju sfernih tela, poluprečnik). Eksperimantalno je utvrđeno da vrednost ovog koeficienta zavisi isključivo od jednog broja, koji zovemo _Rejnoldov broj ($R_{e} = \\frac{\\rho d}{\\eta} v$)_. Iako ne postoji direktna funkcija koja preslikava $R_{e}$ u $C_{d}$, eksperimantalno je utvrđeno da za sferna tela koja imaju isti Rejnoldov broj važi isti koeficijent trenja. Što znači, preko formule za $R_{e}$ možemo zaključiti da ako npr. povećamo brzinu 5 puta a smanjimo zapreminu 5 puta, koeficijent otpora se neće promeniti.\n",
    "\n",
    "$$F = F_{g} + F_{D} \\\\\n",
    "ma = mg - C_{D}(R_{e})\\frac{1}{2}\\rho v(t)^{2}S \\\\\n",
    "ma = mg - C_{D}(\\rho, \\eta, d, v)\\frac{1}{2}\\rho v(t)^{2}S $$\n",
    "\n",
    "Dakle, ukoliko želimo da pronađemo trenutnu brzinu kapi kiše, potrebne su nam vrednosti iz prethodne formule, od kojih su nam sve poznate osim ($C_{D}$). Iako je koeficijent moguće pronaći eksperimentalno za odgovarajuće oblike, dimenzije i materijale sredine/tela, u ovom primeru ćemo iskoristiti uprošćeni model za kretanje tela kroz fluide:\n",
    "$$\n",
    "F_{D} = -k_{v}v(t)\n",
    "$$\n",
    "Ova formula daje intenzitet sile otpora pri kretanju tela pod malim brzinama, što u našem primeru i jeste slučaj. $k_{v}$ je konstanta koja zavisi od dimenzija tela i viskoznosti fluida.\n",
    "$$\n",
    "k_{v} = 6\\pi\\eta R \\\\\n",
    "\\Rightarrow F_{D} = 6\\pi\\eta Rv(t)\n",
    "$$\n",
    "Ako znamo da je viskoznost vazduha $\\eta = 1.82 × 10^{-5}Pa·s$, a da je gustina vazduha $\\rho = 1.293 \\frac{kg}{m^{3}} $, odavde dobijamo:\n",
    "$$\n",
    "ma = mg - 6\\pi\\eta Rv(t) \\\\\n",
    "ma = mg - 6×1.82 × 10^{-5}\\pi Rv(t) \\\\ \n",
    "a = g - \\frac{10.92 × 10^{-5}\\pi Rv(t)}{m} \\\\ \n",
    "$$"
   ]
  },
  {
   "cell_type": "markdown",
   "metadata": {},
   "source": [
    "---\n",
    "$$a = g - \\frac{10.92 × 10^{-5}\\pi Rv(t)}{\\rho V} \\\\ \n",
    "a = g - \\frac{10.92 × 10^{-5}\\pi Rv(t)}{\\rho\\frac{4}{3}\\pi (\\frac{R}{2})^{3}} \\\\ \n",
    "a = g - \\frac{10.92 × 10^{-5} Rv(t)}{\\rho \\frac{R^{3}}{6}} \\\\ \n",
    "a = g - \\frac{65.52 × 10^{-5} v(t)}{\\rho R^{2}} \\\\ \n",
    "a = g - \\frac{65.52 × 10^{-5} v(t)}{1.293 R^{2}} \\\\ \n",
    "a = g - \\frac{65.52 × 10^{-5}}{1.293} × \\frac{v(t)}{R^{2}} \\\\ $$"
   ]
  },
  {
   "cell_type": "code",
   "execution_count": 66,
   "metadata": {},
   "outputs": [
    {
     "name": "stdout",
     "output_type": "stream",
     "text": [
      "Masa kapljice:  5.235987755982989e-07\n"
     ]
    },
    {
     "data": {
      "image/png": "[encoded data removed]",
      "text/plain": [
       "<Figure size 640x480 with 1 Axes>"
      ]
     },
     "metadata": {},
     "output_type": "display_data"
    }
   ],
   "source": [
    "import matplotlib.pyplot as plt\n",
    "import numpy as np\n",
    "import math\n",
    "\n",
    "#Konstante\n",
    "g = 9.81 #m/h^2\n",
    "roW = 1000 #kg/m^3 - gustina vode\n",
    "roA = 1.293 #kg/m^3 - gustina vazduha\n",
    "vA = 1.5e-5\n",
    "kv = 10.92e-5 * 3.14\n",
    "\n",
    "#Zadati podaci\n",
    "t = 50 #s\n",
    "dt = 0.001 #s\n",
    "R = 0.001 #m\n",
    "\n",
    "n = int(round(t/dt))\n",
    "v = np.zeros(n,float)\n",
    "a = np.zeros(n,float)\n",
    "t = np.zeros(n,float)\n",
    "\n",
    "v[0] = 0\n",
    "\n",
    "m = roW * 4/3 * math.pi * (R/2)**3 \n",
    "print(\"Masa kapljice: \", m)\n",
    "\n",
    "\"\"\"\n",
    "for i in range(n-1):\n",
    "    a[i] = g - (kv/m)*v[i]\n",
    "    v[i+1] = v[i] + a[i]*dt\n",
    "    t[i+1] = t[i] + dt\n",
    "a[n-1] = g - (kv/m)*v[n-1]\n",
    "\"\"\"\n",
    "for i in range(n-1):\n",
    "    a[i] = g - (kv*R/m)*v[i]\n",
    "    v[i+1] = v[i] + a[i]*dt\n",
    "    t[i+1] = t[i] + dt\n",
    "a[n-1] = g - (kv*R/m)*v[n-1]\n",
    "plt.plot(t, v)\n",
    "plt.show()"
   ]
  },
  {
   "cell_type": "code",
   "execution_count": 67,
   "metadata": {},
   "outputs": [
    {
     "data": {
      "image/png": "[encoded data removed]",
      "text/plain": [
       "<Figure size 640x480 with 1 Axes>"
      ]
     },
     "metadata": {},
     "output_type": "display_data"
    }
   ],
   "source": [
    "plt.plot(t, a)\n",
    "plt.show()"
   ]
  },
  {
   "cell_type": "markdown",
   "metadata": {},
   "source": [
    "PRIMER: Za koliko vremena će kap kiše pasti na zemlju sa početne visine _h_?"
   ]
  },
  {
   "cell_type": "code",
   "execution_count": 68,
   "metadata": {},
   "outputs": [
    {
     "name": "stdout",
     "output_type": "stream",
     "text": [
      "Sa visine od  100 m, kapljica ce pasti na zemlju za  7.1980000000007385  sekundi, brzinom  14.845939828016485  m/s\n",
      "Sa visine od  200 m, kapljica ce pasti na zemlju za  13.877999999997748  sekundi, brzinom  14.97843425882935  m/s\n",
      "Sa visine od  300 m, kapljica ce pasti na zemlju za  20.554000000002137  sekundi, brzinom  14.98010047788791  m/s\n",
      "Sa visine od  400 m, kapljica ce pasti na zemlju za  27.230000000010296  sekundi, brzinom  14.980121487550566  m/s\n",
      "Sa visine od  500 m, kapljica ce pasti na zemlju za  33.90500000001168  sekundi, brzinom  14.980121752463056  m/s\n",
      "Sa visine od  600 m, kapljica ce pasti na zemlju za  40.58099999999612  sekundi, brzinom  14.98012175580561  m/s\n",
      "Sa visine od  700 m, kapljica ce pasti na zemlju za  47.25599999998057  sekundi, brzinom  14.980121755846945  m/s\n"
     ]
    },
    {
     "ename": "IndexError",
     "evalue": "index 50000 is out of bounds for axis 0 with size 50000",
     "output_type": "error",
     "traceback": [
      "\u001b[0;31m---------------------------------------------------------------------------\u001b[0m",
      "\u001b[0;31mIndexError\u001b[0m                                Traceback (most recent call last)",
      "Cell \u001b[0;32mIn[68], line 14\u001b[0m\n\u001b[1;32m     12\u001b[0m \u001b[39mwhile\u001b[39;00m(hTr \u001b[39m-\u001b[39m v[i] \u001b[39m>\u001b[39m \u001b[39m0\u001b[39m):\n\u001b[1;32m     13\u001b[0m     a[i] \u001b[39m=\u001b[39m g \u001b[39m-\u001b[39m ((kv\u001b[39m*\u001b[39mR)\u001b[39m/\u001b[39mm)\u001b[39m*\u001b[39mv[i]\n\u001b[0;32m---> 14\u001b[0m     v[i\u001b[39m+\u001b[39;49m\u001b[39m1\u001b[39;49m] \u001b[39m=\u001b[39m v[i] \u001b[39m+\u001b[39m a[i]\u001b[39m*\u001b[39mdt\n\u001b[1;32m     15\u001b[0m     hTr \u001b[39m-\u001b[39m\u001b[39m=\u001b[39m v[i]\u001b[39m*\u001b[39mdt\n\u001b[1;32m     16\u001b[0m     i \u001b[39m+\u001b[39m\u001b[39m=\u001b[39m \u001b[39m1\u001b[39m\n",
      "\u001b[0;31mIndexError\u001b[0m: index 50000 is out of bounds for axis 0 with size 50000"
     ]
    }
   ],
   "source": [
    "h = 100 #m\n",
    "\n",
    "while(h <= 1000):\n",
    "    i = 0\n",
    "    v = np.zeros(n,float)\n",
    "    a = np.zeros(n,float)\n",
    "    t = np.zeros(n,float)\n",
    "    v[0] = 0\n",
    "    hTr = h\n",
    "    tTr = 0 #traženo vreme\n",
    "\n",
    "    while(hTr - v[i] > 0):\n",
    "        a[i] = g - ((kv*R)/m)*v[i]\n",
    "        v[i+1] = v[i] + a[i]*dt\n",
    "        hTr -= v[i]*dt\n",
    "        i += 1\n",
    "        tTr += dt\n",
    "\n",
    "    print(\"Sa visine od \", h, \"m, kapljica ce pasti na zemlju za \", tTr, \" sekundi, brzinom \", v[i], \" m/s\")\n",
    "    h+=100\n"
   ]
  }
 ],
 "metadata": {
  "kernelspec": {
   "display_name": "Python 3",
   "language": "python",
   "name": "python3"
  },
  "language_info": {
   "codemirror_mode": {
    "name": "ipython",
    "version": 3
   },
   "file_extension": ".py",
   "mimetype": "text/x-python",
   "name": "python",
   "nbconvert_exporter": "python",
   "pygments_lexer": "ipython3",
   "version": "3.10.12"
  },
  "orig_nbformat": 4
 },
 "nbformat": 4,
 "nbformat_minor": 2
}
